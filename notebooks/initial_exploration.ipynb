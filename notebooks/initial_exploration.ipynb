{
 "cells": [
  {
   "cell_type": "code",
   "execution_count": null,
   "id": "surprising-remainder",
   "metadata": {},
   "outputs": [],
   "source": [
    "import pandas as pd\n",
    "import altair as alt\n",
    "import math\n",
    "import numpy as np"
   ]
  },
  {
   "cell_type": "code",
   "execution_count": null,
   "metadata": {},
   "outputs": [],
   "source": [
    "alt.data_transformers.disable_max_rows()"
   ]
  },
  {
   "source": [
    "## 1. Load datasets and improve variable names"
   ],
   "cell_type": "markdown",
   "metadata": {}
  },
  {
   "cell_type": "code",
   "execution_count": null,
   "id": "crucial-faculty",
   "metadata": {},
   "outputs": [],
   "source": [
    "series = pd.read_csv(\"../data/tv_series_over_1k_votes.csv\", encoding=\"latin_1\")"
   ]
  },
  {
   "cell_type": "code",
   "execution_count": null,
   "metadata": {},
   "outputs": [],
   "source": [
    "episodes = pd.read_csv(\"../data/episodes_details.csv\", encoding=\"latin_1\")"
   ]
  },
  {
   "cell_type": "code",
   "execution_count": null,
   "metadata": {},
   "outputs": [],
   "source": [
    "episodes_renaming = {\n",
    "    \"Title_show_name_tconst\": \"seriesId\",\t\n",
    "    \"Title_basics_tconst\": \"episodeId\",\t\n",
    "    \"Title_show_name_primaryTitle\": \"seriesTitle\",\t\n",
    "    \"Title_basics_primaryTitle\": \"episodeTitle\",\t\n",
    "    \"SeriesName\": \"seriesFullName\",\n",
    "    \"averageRating\": \"episodeAverageRating\",\n",
    "    \"genres\": \"episodeGenres\",\n",
    "    \"seasonNumber\": \"episodeSeasonNumber\"\n",
    "}\n",
    "\n",
    "series_renaming = {\n",
    "    \"tconst\": \"seriesId\",\n",
    "    \"primaryTitle\": \"seriesTitle\",\n",
    "    \"SeriesName\": \"seriesFullName\",\n",
    "    \"averageRating\": \"seriesAverageRating\",\n",
    "    \"genres\": \"seriesGenres\",\n",
    "    \"numVotes\": \"seriesNumVotes\",\n",
    "    \"startYear\": \"seriesStartYear\"\n",
    "}\n",
    "\n",
    "\n",
    "series = series.rename(series_renaming, axis=1)\n",
    "episodes = episodes.rename(episodes_renaming, axis=1)"
   ]
  },
  {
   "cell_type": "code",
   "execution_count": null,
   "metadata": {},
   "outputs": [],
   "source": [
    "print(f\"Number of series: {len(series)}\")\n",
    "print(f\"Number of episodes: {len(episodes)}\")"
   ]
  },
  {
   "source": [
    "## 2. Clean the dataframes"
   ],
   "cell_type": "markdown",
   "metadata": {}
  },
  {
   "cell_type": "code",
   "execution_count": null,
   "metadata": {},
   "outputs": [],
   "source": [
    "# Clean \"\\\\N\" characters in \"episodeNumber\" & \"seasonNumber\"\n",
    "episodes[\"episodeSeasonNumber\"] = episodes[\"episodeSeasonNumber\"].replace(r\"\\\\N\",np.nan, regex=True)\n",
    "episodes[\"episodeNumber\"] = episodes[\"episodeNumber\"].replace(r\"\\\\N\",np.nan, regex=True)\n",
    "\n",
    "# Investigate missing values\n",
    "series_with_nan = series[series.isna().any(axis=1)]\n",
    "episodes_with_nan = episodes[episodes.isna().any(axis=1)]\n",
    "\n",
    "episodes_with_nan.merge(series[[\"seriesId\", \"seriesNumVotes\"]], on=\"seriesId\", how=\"left\", indicator=True).sort_values(by=\"seriesNumVotes\", ascending=False)"
   ]
  },
  {
   "cell_type": "code",
   "execution_count": null,
   "metadata": {},
   "outputs": [],
   "source": [
    "# Drop series with missing values (only 1)\n",
    "series.dropna(inplace=True)\n",
    "\n",
    "# Change startYear to int\n",
    "series[\"seriesStartYear\"] = series[\"seriesStartYear\"].astype(\"int\")\n",
    "series.dtypes"
   ]
  },
  {
   "cell_type": "code",
   "execution_count": null,
   "metadata": {},
   "outputs": [],
   "source": [
    "# Drop episodes with missing episode number and season number (following investigation: this mostly concerns specials)\n",
    "episodes.dropna(inplace=True)\n",
    "episodes[\"episodeSeasonNumber\"] = episodes[\"episodeSeasonNumber\"].astype(\"int\")\n",
    "episodes[\"episodeNumber\"] = episodes[\"episodeNumber\"].astype(\"int\")\n",
    "\n",
    "episodes.dtypes"
   ]
  },
  {
   "source": [
    "## 3. Create new variables"
   ],
   "cell_type": "markdown",
   "metadata": {}
  },
  {
   "cell_type": "code",
   "execution_count": null,
   "metadata": {},
   "outputs": [],
   "source": [
    "# Create decade\n",
    "def get_decade(x):\n",
    "    return str(x)[:-1] + \"0\"\n",
    "\n",
    "series[\"seriesDecade\"] = series[\"seriesStartYear\"].apply(lambda x: get_decade(x))"
   ]
  },
  {
   "cell_type": "code",
   "execution_count": null,
   "metadata": {},
   "outputs": [],
   "source": [
    "# Create continuous episode number\n",
    "episodes[\"episodeContinuousNumber\"] = episodes.sort_values(by=[\"seriesId\", \"episodeSeasonNumber\", \"episodeNumber\"]).groupby(by=[\"seriesId\"]).cumcount() + 1"
   ]
  },
  {
   "cell_type": "code",
   "execution_count": null,
   "metadata": {},
   "outputs": [],
   "source": [
    "# Create total number of episodes & total number of seasons\n",
    "# Variable is added back to episodes (and not series) because it would filter the series dataframe (see below)\n",
    "max_episodes_seasons = episodes[[\"seriesId\", \"episodeContinuousNumber\", \"episodeSeasonNumber\"]].groupby(\"seriesId\").max().rename(columns={\"episodeContinuousNumber\": \"seriesNumEpisodes\", \"episodeSeasonNumber\": \"seriesNumSeasons\"})\n",
    "episodes = episodes.merge(max_episodes_seasons, on=\"seriesId\")"
   ]
  },
  {
   "cell_type": "code",
   "execution_count": null,
   "metadata": {},
   "outputs": [],
   "source": [
    "# Create average episode rating\n",
    "# Variable is added back to episodes (and not series) because it would filter the series dataframe (see below)\n",
    "series_avg_episode_rating = episodes[[\"seriesId\",\"episodeAverageRating\"]].groupby(\"seriesId\").mean().rename({\"episodeAverageRating\": \"seriesAverageEpisodeRating\"}, axis=1)\n",
    "episodes = episodes.merge(series_avg_episode_rating, on=\"seriesId\")"
   ]
  },
  {
   "cell_type": "code",
   "execution_count": null,
   "metadata": {},
   "outputs": [],
   "source": [
    "episodes"
   ]
  },
  {
   "source": [
    "## 4. Filtering & Exporting"
   ],
   "cell_type": "markdown",
   "metadata": {}
  },
  {
   "cell_type": "code",
   "execution_count": null,
   "metadata": {},
   "outputs": [],
   "source": [
    "# Investigate series with no episodes\n",
    "series_full = series.merge(max_episodes_seasons, on=\"seriesId\", how=\"outer\", indicator=True)\n",
    "series_full.loc[series_full[\"_merge\"] == \"right_only\"]#[[\"seriesId\"]].merge(episodes, on=\"seriesId\")"
   ]
  },
  {
   "source": [
    "### Filtering episodes & series > Only keep those series with episodes (& episodes for which there are series entries)"
   ],
   "cell_type": "markdown",
   "metadata": {}
  },
  {
   "cell_type": "code",
   "execution_count": null,
   "metadata": {},
   "outputs": [],
   "source": [
    "series_reduced = series[[\"seriesId\", \"seriesGenres\", \"seriesAverageRating\", \"seriesStartYear\", \"seriesDecade\"]]\n",
    "\n",
    "clean_data = episodes.merge(series_reduced, on=\"seriesId\")\n",
    "clean_data"
   ]
  },
  {
   "cell_type": "code",
   "execution_count": null,
   "metadata": {},
   "outputs": [],
   "source": [
    "# filter data to top 100 series by number of votes\n",
    "top_series = series.sort_values(by=\"seriesNumVotes\", ascending=False)[\"seriesId\"][0:100]\n",
    "clean_data_reduced = clean_data.loc[clean_data[\"seriesId\"].isin(top_series)]\n",
    "\n",
    "# output episodes from top 100 series\n",
    "clean_data_reduced.to_json(\"../app/src/clean_data.json\", orient=\"records\")"
   ]
  },
  {
   "source": [
    "## Exploratory charts"
   ],
   "cell_type": "markdown",
   "metadata": {}
  },
  {
   "cell_type": "code",
   "execution_count": null,
   "metadata": {},
   "outputs": [],
   "source": [
    "alt.Chart(series).mark_bar(tooltip=True).encode(\n",
    "    alt.X(\"seriesNumVotes:Q\"),\n",
    "    alt.Y(\"seriesTitle:N\", sort=\"-x\"),\n",
    "    color=\"seriesAverageRating:O\"\n",
    ").transform_window(rank=\"rank(seriesNumVotes)\", sort=[alt.SortField(\"seriesNumVotes\", order=\"descending\")]).transform_filter(alt.datum.rank <= 200)"
   ]
  },
  {
   "cell_type": "code",
   "execution_count": null,
   "metadata": {},
   "outputs": [],
   "source": [
    "alt.Chart(series).mark_circle(tooltip=True).transform_filter(\n",
    "    \"datum.seriesNumVotes >= 10000\"\n",
    ").encode(\n",
    "    alt.X(\"seriesNumVotes:Q\"),\n",
    "    alt.Y(\"seriesAverageRating:Q\"),\n",
    "    alt.Color(\"seriesDecade:N\"),\n",
    "    opacity=alt.value(0.7)\n",
    ").properties(width=600, height=600).interactive()"
   ]
  },
  {
   "cell_type": "code",
   "execution_count": null,
   "metadata": {},
   "outputs": [],
   "source": [
    "alt.Chart(clean_data_reduced).mark_rect().encode(\n",
    "    alt.X(\"episodeSeasonNumber:O\"),\n",
    "    alt.Y(\"seriesTitle:N\"),\n",
    "    alt.Color(\"mean(episodeAverageRating):Q\")\n",
    ")"
   ]
  },
  {
   "cell_type": "code",
   "execution_count": null,
   "metadata": {},
   "outputs": [],
   "source": [
    "series_line = alt.Chart(clean_data_reduced).mark_line(color=\"purple\", strokeWidth=1).encode(\n",
    "    alt.X(\"episodeContinuousNumber:O\"),\n",
    "    alt.Y(\"seriesAverageRating:Q\", axis=alt.Axis(values=[5])),\n",
    ")\n",
    "\n",
    "season_episode_average = alt.Chart(clean_data_reduced).mark_line(color=\"orange\", strokeWidth=1).encode(\n",
    "    alt.Y(\"seriesAverageEpisodeRating:Q\", axis=alt.Axis(values=[5])),\n",
    "    alt.X(\"episodeContinuousNumber:O\"),\n",
    ")\n",
    "\n",
    "episodes_area = alt.Chart(clean_data_reduced).mark_area(opacity=0.5, color=\"black\").encode(\n",
    "    alt.X(\"episodeContinuousNumber:O\"),\n",
    "    alt.Y(\"episodeAverageRating:Q\", axis=alt.Axis(values=[5])),\n",
    "    tooltip=[\"episodeNumber\", \"episodeSeasonNumber\"]\n",
    ")\n",
    "\n",
    "episodes_line = alt.Chart(clean_data_reduced).mark_line(color=\"black\", strokeWidth=3).encode(\n",
    "    alt.X(\"episodeContinuousNumber:O\"),\n",
    "    alt.Y(\"episodeAverageRating:Q\", axis=alt.Axis(values=[5], title=\"rating\")),\n",
    "    tooltip=[\"episodeNumber\", \"episodeSeasonNumber\"]\n",
    ")\n",
    "\n",
    "\n",
    "(series_line + season_episode_average + episodes_line).properties(\n",
    "    width=1500, \n",
    "    height=100\n",
    "    ).facet(\n",
    "        row=alt.Row(\"seriesTitle\", header=alt.Header(\n",
    "            labelAngle=0, \n",
    "            labelFont=\"Arial\",\n",
    "            labelFontSize=18,\n",
    "            labelAlign=\"left\",\n",
    "            labelPadding=40)),\n",
    "        spacing=75,\n",
    "        #data=episodes_top_rated_series\n",
    "        ).resolve_scale(\n",
    "            #y=\"independent\"\n",
    "            ).configure_axisBottom(\n",
    "                title=None, \n",
    "                grid=False, \n",
    "                ticks=False,\n",
    "                labels=False, \n",
    "                domain=True\n",
    "                ).configure_axisLeft(\n",
    "                    title=None, \n",
    "                    grid=True,\n",
    "                    gridDash=[5, 5], \n",
    "                    gridColor=\"#BDBDBD\",\n",
    "                    domain=False,\n",
    "                    labels=True,\n",
    "                    ticks=False,\n",
    "                    labelColor=\"#BDBDBD\",\n",
    "                    titleFont=\"Arial\",\n",
    "                    titleFontSize=12,\n",
    "                    titleFontWeight=200,\n",
    "                    titleAngle=0,\n",
    "                    titleColor=\"#BDBDBD\",\n",
    "                    titleBaseline=\"top\",\n",
    "                    titleAnchor=\"end\"\n",
    "                    ).configure_view(\n",
    "                        strokeOpacity=0)"
   ]
  }
 ],
 "metadata": {
  "kernelspec": {
   "display_name": "Python 3",
   "language": "python",
   "name": "python3"
  },
  "language_info": {
   "codemirror_mode": {
    "name": "ipython",
    "version": 3
   },
   "file_extension": ".py",
   "mimetype": "text/x-python",
   "name": "python",
   "nbconvert_exporter": "python",
   "pygments_lexer": "ipython3",
   "version": "3.7.5"
  }
 },
 "nbformat": 4,
 "nbformat_minor": 5
}