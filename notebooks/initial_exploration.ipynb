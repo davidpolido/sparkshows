{
 "cells": [
  {
   "cell_type": "code",
   "execution_count": null,
   "id": "surprising-remainder",
   "metadata": {},
   "outputs": [],
   "source": [
    "import pandas as pd\n",
    "import altair as alt\n",
    "import math\n",
    "import numpy as np"
   ]
  },
  {
   "cell_type": "code",
   "execution_count": null,
   "metadata": {},
   "outputs": [],
   "source": [
    "alt.data_transformers.disable_max_rows()"
   ]
  },
  {
   "source": [
    "## Load datasets and clean variable names"
   ],
   "cell_type": "markdown",
   "metadata": {}
  },
  {
   "cell_type": "code",
   "execution_count": null,
   "id": "crucial-faculty",
   "metadata": {},
   "outputs": [],
   "source": [
    "series = pd.read_csv(\"../data/tv_series_over_1k_votes.csv\")"
   ]
  },
  {
   "cell_type": "code",
   "execution_count": null,
   "metadata": {},
   "outputs": [],
   "source": [
    "episodes = pd.read_csv(\"../data/episodes_details.csv\")"
   ]
  },
  {
   "cell_type": "code",
   "execution_count": null,
   "metadata": {},
   "outputs": [],
   "source": [
    "episodes_renaming = {\n",
    "    \"Title_show_name_tconst\": \"seriesId\",\t\n",
    "    \"Title_basics_tconst\": \"episodeId\",\t\n",
    "    \"Title_show_name_primaryTitle\": \"seriesTitle\",\t\n",
    "    \"Title_basics_primaryTitle\": \"episodeTitle\",\t\n",
    "    \"SeriesName\": \"seriesFullName\"\n",
    "}\n",
    "\n",
    "series_renaming = {\n",
    "    \"tconst\": \"seriesId\",\n",
    "    \"primaryTitle\": \"seriesTitle\",\n",
    "    \"SeriesName\": \"seriesFullName\"\n",
    "}\n",
    "\n",
    "\n",
    "series = series.rename(series_renaming, axis=1)\n",
    "episodes = episodes.rename(episodes_renaming, axis=1)"
   ]
  },
  {
   "source": [
    "## Cleanup"
   ],
   "cell_type": "markdown",
   "metadata": {}
  },
  {
   "cell_type": "code",
   "execution_count": null,
   "metadata": {},
   "outputs": [],
   "source": [
    "print(len(series))\n",
    "series.dropna(inplace=True)\n",
    "print(len(series))\n",
    "series[\"startYear\"] = series[\"startYear\"].astype(\"int\")\n",
    "series.dtypes"
   ]
  },
  {
   "cell_type": "code",
   "execution_count": null,
   "metadata": {},
   "outputs": [],
   "source": [
    "# Clean \"\\\\N\" characters in \"episodeNumber\" & \"seasonNumber\"\n",
    "#episodes[\"seasonNumber\"] = episodes[\"seasonNumber\"].replace(r\"\\\\N\",np.nan, regex=True)\n",
    "#episodes[\"episodeNumber\"] = episodes[\"episodeNumber\"].replace(r\"\\\\N\",np.nan, regex=True)\n",
    "#episodes[\"episodeNumber\"].sort_values()\n",
    "\n",
    "# Drop missing values\n",
    "#print(len(episodes))\n",
    "#episodes.dropna(inplace=True)\n",
    "#print(len(episodes))\n",
    "#episodes.sort_values(by=\"seasonNumber\", )\n",
    "\n",
    "# Investigate dropped rows"
   ]
  },
  {
   "source": [
    "## Create new variables"
   ],
   "cell_type": "markdown",
   "metadata": {}
  },
  {
   "cell_type": "code",
   "execution_count": null,
   "metadata": {},
   "outputs": [],
   "source": [
    "# Create decade\n",
    "series = series.dropna()\n",
    "\n",
    "def get_decade(x):\n",
    "    return str(x)[:-1] + \"0\"\n",
    "\n",
    "series[\"startYear\"] = series[\"startYear\"].astype(\"int\")\n",
    "series[\"decade\"] = series[\"startYear\"].apply(lambda x: get_decade(x))\n",
    "series"
   ]
  },
  {
   "cell_type": "code",
   "execution_count": null,
   "metadata": {},
   "outputs": [],
   "source": [
    "# Create total number of episodes\n",
    "# Create total number of seasons\n"
   ]
  },
  {
   "source": [
    "## Exploratory charts"
   ],
   "cell_type": "markdown",
   "metadata": {}
  },
  {
   "cell_type": "code",
   "execution_count": null,
   "metadata": {},
   "outputs": [],
   "source": [
    "alt.Chart(series).mark_bar(tooltip=True).encode(\n",
    "    alt.X(\"numVotes:Q\"),\n",
    "    alt.Y(\"primaryTitle:N\", sort=\"-x\"),\n",
    "    color=\"averageRating:O\"\n",
    ").transform_window(rank=\"rank(numVotes)\", sort=[alt.SortField(\"numVotes\", order=\"descending\")]).transform_filter(alt.datum.rank <= 10)"
   ]
  },
  {
   "cell_type": "code",
   "execution_count": null,
   "metadata": {},
   "outputs": [],
   "source": [
    "alt.Chart(series).mark_circle().transform_filter(\n",
    "    \"datum.numVotes >= 10000\"\n",
    ").encode(\n",
    "    alt.X(\"numVotes:Q\"),\n",
    "    alt.Y(\"averageRating:Q\"),\n",
    "    alt.Color(\"decade:N\"),\n",
    "    tooltip=[\"primaryTitle\", \"genres\"],\n",
    "    opacity=alt.value(0.7)\n",
    ").properties(width=600, height=600).interactive()"
   ]
  }
 ],
 "metadata": {
  "kernelspec": {
   "display_name": "Python 3",
   "language": "python",
   "name": "python3"
  },
  "language_info": {
   "codemirror_mode": {
    "name": "ipython",
    "version": 3
   },
   "file_extension": ".py",
   "mimetype": "text/x-python",
   "name": "python",
   "nbconvert_exporter": "python",
   "pygments_lexer": "ipython3",
   "version": "3.8.5-final"
  }
 },
 "nbformat": 4,
 "nbformat_minor": 5
}